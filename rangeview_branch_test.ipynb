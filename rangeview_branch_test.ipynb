{
 "cells": [
  {
   "cell_type": "code",
   "execution_count": 1,
   "metadata": {},
   "outputs": [],
   "source": [
    "from tensorflow.keras.models import Model\n",
    "from pprint import pprint\n",
    "\n",
    "from models.rangeview_branch import create_range_view_branch\n",
    "from models.blocks import create_res_conv_block, create_input_layer, factorized_bilinear_pooling, factorized_bilinear_pooling_new"
   ]
  },
  {
   "cell_type": "code",
   "execution_count": 2,
   "metadata": {
    "scrolled": false
   },
   "outputs": [
    {
     "name": "stdout",
     "output_type": "stream",
     "text": [
      "[<tf.Tensor 'rgb_img_input:0' shape=(None, 375, 1242, 3) dtype=float32>,\n",
      " <tf.Tensor 'depth_map_input:0' shape=(None, 375, 1242, 1) dtype=float32>,\n",
      " <tf.Tensor 'intensity_map_input:0' shape=(None, 375, 1242, 1) dtype=float32>,\n",
      " <tf.Tensor 'height_map_input:0' shape=(None, 375, 1242, 1) dtype=float32>,\n",
      " <tf.Tensor 'mapping_2x:0' shape=(None, 224, 256, 2) dtype=int32>,\n",
      " <tf.Tensor 'mapping_4x:0' shape=(None, 112, 128, 2) dtype=int32>,\n",
      " <tf.Tensor 'mapping_8x:0' shape=(None, 56, 64, 2) dtype=int32>,\n",
      " <tf.Tensor 'geo_2x:0' shape=(None, 224, 256, 3) dtype=float32>,\n",
      " <tf.Tensor 'geo_4x:0' shape=(None, 112, 128, 3) dtype=float32>,\n",
      " <tf.Tensor 'geo_8x:0' shape=(None, 56, 64, 3) dtype=float32>]\n",
      "[<tf.Tensor 'conv2d_41/Identity:0' shape=(None, 224, 256, 128) dtype=float32>,\n",
      " <tf.Tensor 'conv2d_44/Identity:0' shape=(None, 112, 128, 192) dtype=float32>,\n",
      " <tf.Tensor 'conv2d_47/Identity:0' shape=(None, 56, 64, 256) dtype=float32>]\n"
     ]
    }
   ],
   "source": [
    "model_map = create_range_view_branch()\n",
    "inputs    = model_map['inputs']\n",
    "outputs   = model_map['outputs']\n",
    "pprint(inputs)\n",
    "pprint(outputs)"
   ]
  },
  {
   "cell_type": "code",
   "execution_count": 3,
   "metadata": {},
   "outputs": [],
   "source": [
    "# n = factorized_bilinear_pooling(outputs[1], outputs[1], 64, 128)\n",
    "# n"
   ]
  },
  {
   "cell_type": "code",
   "execution_count": 4,
   "metadata": {},
   "outputs": [],
   "source": [
    "# m = factorized_bilinear_pooling_new(outputs[1], outputs[1], 64, 128)\n",
    "# m"
   ]
  },
  {
   "cell_type": "code",
   "execution_count": 5,
   "metadata": {},
   "outputs": [],
   "source": [
    "# model = Model(inputs=inputs, outputs=outputs)\n",
    "# model.summary()"
   ]
  }
 ],
 "metadata": {
  "kernelspec": {
   "display_name": "Python 3",
   "language": "python",
   "name": "python3"
  },
  "language_info": {
   "codemirror_mode": {
    "name": "ipython",
    "version": 3
   },
   "file_extension": ".py",
   "mimetype": "text/x-python",
   "name": "python",
   "nbconvert_exporter": "python",
   "pygments_lexer": "ipython3",
   "version": "3.6.8"
  }
 },
 "nbformat": 4,
 "nbformat_minor": 2
}
