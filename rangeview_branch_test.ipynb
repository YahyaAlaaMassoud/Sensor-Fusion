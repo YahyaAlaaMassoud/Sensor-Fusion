{
 "cells": [
  {
   "cell_type": "code",
   "execution_count": 1,
   "metadata": {},
   "outputs": [],
   "source": [
    "from tensorflow.keras.models import Model\n",
    "from pprint import pprint\n",
    "\n",
    "from models.rangeview_branch import create_range_view_branch\n",
    "from models.blocks import create_res_conv_block, create_input_layer"
   ]
  },
  {
   "cell_type": "code",
   "execution_count": 3,
   "metadata": {},
   "outputs": [],
   "source": [
    "model_map = create_range_view_branch(input_shape=(375, 1242, 3), \n",
    "                                     input_names=['rgb_img_input', 'depth_map_input', 'intensity_map_input', 'height_map_input'])\n",
    "inputs    = model_map['inputs']\n",
    "outputs   = model_map['outputs']\n",
    "# pprint(inputs)\n",
    "# pprint(outputs)"
   ]
  },
  {
   "cell_type": "code",
   "execution_count": 4,
   "metadata": {},
   "outputs": [],
   "source": [
    "# model = Model(inputs=inputs, outputs=outputs)\n",
    "# model.summary()"
   ]
  }
 ],
 "metadata": {
  "kernelspec": {
   "display_name": "Python 3",
   "language": "python",
   "name": "python3"
  },
  "language_info": {
   "codemirror_mode": {
    "name": "ipython",
    "version": 3
   },
   "file_extension": ".py",
   "mimetype": "text/x-python",
   "name": "python",
   "nbconvert_exporter": "python",
   "pygments_lexer": "ipython3",
   "version": "3.6.8"
  }
 },
 "nbformat": 4,
 "nbformat_minor": 2
}
