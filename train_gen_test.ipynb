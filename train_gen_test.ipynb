{
 "cells": [
  {
   "cell_type": "code",
   "execution_count": 1,
   "metadata": {},
   "outputs": [],
   "source": [
    "%matplotlib inline\n",
    "\n",
    "from config import configs\n",
    "\n",
    "import os\n",
    "import io\n",
    "import numpy as np\n",
    "import matplotlib\n",
    "import timeit\n",
    "import random\n",
    "import cv2\n",
    "import deepdish as dd\n",
    "\n",
    "import matplotlib.pyplot as plt\n",
    "\n",
    "from pprint import pprint\n",
    "from datetime import datetime\n",
    "from pixor_targets import PIXORTargets\n",
    "from skimage.transform import resize\n",
    "from scipy.interpolate import griddata\n",
    "from core.kitti import KITTI\n",
    "from pixor_utils.model_utils import load_model, save_model\n",
    "from data_utils.training_gen import TrainingGenerator\n",
    "from data_utils.generator import Generator, KITTIGen\n",
    "from tt import bev\n",
    "from data_utils.generator import KITTIGen\n",
    "from pixor_utils.post_processing import nms_bev\n",
    "from test_utils.unittest import test_pc_encoder, test_target_encoder\n",
    "from encoding_utils.pointcloud_encoder import OccupancyCuboidKITTI\n",
    "from encoding_utils.voxelizer import BEVVoxelizer"
   ]
  },
  {
   "cell_type": "code",
   "execution_count": 2,
   "metadata": {},
   "outputs": [],
   "source": [
    "DS_DIR = os.path.expanduser(configs['dataset_path'])\n",
    "\n",
    "os.environ[\"CUDA_DEVICE_ORDER\"] = \"PCI_BUS_ID\"\n",
    "os.environ[\"CUDA_VISIBLE_DEVICES\"] = configs[\"gpu_id\"]\n",
    "os.environ['TF_CPP_MIN_LOG_LEVEL'] = '2' "
   ]
  },
  {
   "cell_type": "code",
   "execution_count": 3,
   "metadata": {},
   "outputs": [],
   "source": [
    "# Point Cloud Encoder\n",
    "INPUT_SHAPE = configs['input_shape']\n",
    "\n",
    "# Training\n",
    "BATCH_SIZE = configs['hyperparams']['batch_size']\n",
    "LEARNING_RATE = configs['hyperparams']['lr']\n",
    "EPOCHS = configs['hyperparams']['epochs']\n",
    "NUM_THREADS = configs['hyperparams']['num_threads']\n",
    "MAX_Q_SIZE = configs['hyperparams']['max_q_size']"
   ]
  },
  {
   "cell_type": "code",
   "execution_count": 4,
   "metadata": {},
   "outputs": [],
   "source": [
    "kitti = KITTI(DS_DIR, configs['training_target'])\n",
    "\n",
    "train_ids = kitti.get_ids('train')\n",
    "val_ids = kitti.get_ids('val')\n",
    "micro_ids = kitti.get_ids('micro')"
   ]
  },
  {
   "cell_type": "code",
   "execution_count": 5,
   "metadata": {},
   "outputs": [
    {
     "name": "stdout",
     "output_type": "stream",
     "text": [
      "1856\n"
     ]
    }
   ],
   "source": [
    "print(len(train_ids) // 2)"
   ]
  },
  {
   "cell_type": "code",
   "execution_count": 6,
   "metadata": {},
   "outputs": [],
   "source": [
    "pc_encoder = OccupancyCuboidKITTI(0, 70, -40, 40, -1, 3, [0.1, 0.1, 0.4]) # 0.1, 0.1, 0.4\n",
    "pc_encoder = BEVVoxelizer(n_x=448, n_y=512, n_z=32, side_range=(0,70), fwd_range=(-40,40), height_range=(-1, 3), filter_external=True)"
   ]
  },
  {
   "cell_type": "code",
   "execution_count": 7,
   "metadata": {},
   "outputs": [],
   "source": [
    "target_encoder = PIXORTargets(shape=(128, 112), \n",
    "                              stats=dd.io.load('kitti_stats/new_stats.h5'),\n",
    "                              P_WIDTH=70, P_HEIGHT=80, P_DEPTH=4, \n",
    "                              subsampling_factor=(0.75, 1.25))"
   ]
  },
  {
   "cell_type": "code",
   "execution_count": 8,
   "metadata": {},
   "outputs": [],
   "source": [
    "train_gen = KITTIGen(kitti, train_ids, BATCH_SIZE, pc_encoder=pc_encoder, target_encoder=target_encoder)"
   ]
  },
  {
   "cell_type": "code",
   "execution_count": 9,
   "metadata": {
    "scrolled": true
   },
   "outputs": [],
   "source": [
    "# for batch in train_gen:\n",
    "# #     start = timeit.default_timer()\n",
    "#     bev, rgb_img, depth_map, intensity_map, height_map, (obj, geo) = batch\n",
    "# #     print('took {}'.format(timeit.default_timer() - start))\n",
    "# #     print('bev.shape          ', bev.shape)\n",
    "# #     print('rgb_img.shape      ', rgb_img.shape)\n",
    "# #     print('depth_map.shape    ', depth_map.shape)\n",
    "# #     print('intensity_map.shape', intensity_map.shape)\n",
    "# #     print('height_map.shape   ', height_map.shape)\n",
    "# #     print('obj.shape          ', obj.shape)\n",
    "# #     print('geo.shape          ', geo.shape)\n",
    "# #     print('------------------------')"
   ]
  },
  {
   "cell_type": "code",
   "execution_count": 76,
   "metadata": {},
   "outputs": [],
   "source": [
    "cur_idx = train_ids[159]"
   ]
  },
  {
   "cell_type": "code",
   "execution_count": 77,
   "metadata": {},
   "outputs": [],
   "source": [
    "boxes = kitti.get_boxes_3D(cur_idx)\n",
    "encoded = target_encoder.encode(boxes)"
   ]
  },
  {
   "cell_type": "code",
   "execution_count": 78,
   "metadata": {},
   "outputs": [
    {
     "data": {
      "text/plain": [
       "(112, 128, 11)"
      ]
     },
     "execution_count": 78,
     "metadata": {},
     "output_type": "execute_result"
    }
   ],
   "source": [
    "outmap = np.squeeze(np.concatenate((encoded[0][:,:,0:1], encoded[1]), axis=-1))\n",
    "outmap.shape"
   ]
  },
  {
   "cell_type": "code",
   "execution_count": 79,
   "metadata": {},
   "outputs": [
    {
     "name": "stdout",
     "output_type": "stream",
     "text": [
      "4 4\n"
     ]
    }
   ],
   "source": [
    "org_boxes = target_encoder.decode(outmap, 0.8)\n",
    "nms  = nms_bev('dist', -2.5, max_boxes=20)\n",
    "org_boxes = nms(org_boxes)\n",
    "print(len(boxes), len(org_boxes))"
   ]
  },
  {
   "cell_type": "code",
   "execution_count": 80,
   "metadata": {},
   "outputs": [
    {
     "data": {
      "text/plain": [
       "<matplotlib.image.AxesImage at 0x7f65c8436cf8>"
      ]
     },
     "execution_count": 80,
     "metadata": {},
     "output_type": "execute_result"
    },
    {
     "data": {
      "image/png": "[encoded data removed]",
      "text/plain": [
       "<Figure size 360x360 with 1 Axes>"
      ]
     },
     "metadata": {
      "needs_background": "light"
     },
     "output_type": "display_data"
    }
   ],
   "source": [
    "# plt.figure(figsize = (5,5))\n",
    "# plt.imshow(np.squeeze(encoded[0][:,:,0]), cmap='gray')\n",
    "\n",
    "plt.figure(figsize = (5,5))\n",
    "plt.imshow(np.squeeze(encoded[0][:,:,1]), cmap='gray')"
   ]
  },
  {
   "cell_type": "code",
   "execution_count": 81,
   "metadata": {},
   "outputs": [
    {
     "data": {
      "text/plain": [
       "<matplotlib.image.AxesImage at 0x7f65c83a04e0>"
      ]
     },
     "execution_count": 81,
     "metadata": {},
     "output_type": "execute_result"
    },
    {
     "data": {
      "image/png": "[encoded data removed]",
      "text/plain": [
       "<Figure size 360x360 with 1 Axes>"
      ]
     },
     "metadata": {
      "needs_background": "light"
     },
     "output_type": "display_data"
    }
   ],
   "source": [
    "org_encoded = target_encoder.encode(org_boxes)\n",
    "# plt.figure(figsize = (5,5))\n",
    "# plt.imshow(np.squeeze(org_encoded[0][:,:,0]), cmap='gray')\n",
    "\n",
    "plt.figure(figsize = (5,5))\n",
    "plt.imshow(np.squeeze(org_encoded[0][:,:,1]), cmap='gray')"
   ]
  },
  {
   "cell_type": "code",
   "execution_count": 16,
   "metadata": {},
   "outputs": [],
   "source": [
    "# cos, sin = [], []\n",
    "# for id in train_ids:\n",
    "#     boxes = kitti.get_boxes_3D(id)\n",
    "#     for box in boxes:\n",
    "#         cur_yaw = box.yaw\n",
    "#         if cur_yaw < 0:\n",
    "#             cur_yaw *= -1\n",
    "#         cos.append(np.cos(cur_yaw))\n",
    "#         sin.append(np.sin(cur_yaw))\n",
    "# print('cos_mean', np.mean(cos), 'cos_std', np.std(cos))\n",
    "# print('sin_mean', np.mean(sin), 'sin_std', np.std(sin))"
   ]
  }
 ],
 "metadata": {
  "kernelspec": {
   "display_name": "Python 3",
   "language": "python",
   "name": "python3"
  },
  "language_info": {
   "codemirror_mode": {
    "name": "ipython",
    "version": 3
   },
   "file_extension": ".py",
   "mimetype": "text/x-python",
   "name": "python",
   "nbconvert_exporter": "python",
   "pygments_lexer": "ipython3",
   "version": "3.6.8"
  }
 },
 "nbformat": 4,
 "nbformat_minor": 2
}
