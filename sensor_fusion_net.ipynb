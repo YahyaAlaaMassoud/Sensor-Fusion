{
 "cells": [
  {
   "cell_type": "code",
   "execution_count": 28,
   "metadata": {},
   "outputs": [],
   "source": [
    "from tensorflow.keras.models import Model\n",
    "from tensorflow.keras.layers import UpSampling2D, Conv2DTranspose, AveragePooling2D, ZeroPadding2D, Add, Conv2D\n",
    "from pprint import pprint\n",
    "\n",
    "from models.blocks import create_res_conv_block, create_input_layer, conv_block\n",
    "from models.rangeview_branch import create_range_view_branch"
   ]
  },
  {
   "cell_type": "code",
   "execution_count": 35,
   "metadata": {},
   "outputs": [],
   "source": [
    "bev_in = create_input_layer((800, 800, 10), 'bev')\n",
    "x = bev_in\n",
    "\n",
    "'''\n",
    "    Backbone\n",
    "'''\n",
    "for i in range(2): # same res\n",
    "    x = create_res_conv_block(x, 24, 3)\n",
    "f1 = x\n",
    "    \n",
    "for i in range(4): # 1 / 2 res\n",
    "    x = create_res_conv_block(x, 48, 3, i==0)\n",
    "f2 = x\n",
    "\n",
    "for i in range(4): # 1 / 4 res\n",
    "    x = create_res_conv_block(x, 96, 3, i==0)\n",
    "f3 = x\n",
    "\n",
    "for i in range(4): # 1 / 8 res\n",
    "    x = create_res_conv_block(x, 192, 3, i==0)\n",
    "f4 = x\n",
    "\n",
    "for i in range(4): # 1 / 16 res\n",
    "    x = create_res_conv_block(x, 256, 3, i==0)\n",
    "f5 = x"
   ]
  },
  {
   "cell_type": "code",
   "execution_count": 36,
   "metadata": {},
   "outputs": [],
   "source": [
    "rv_net = create_range_view_branch(input_shape=(375, 1242, 3), \n",
    "                                  input_names=['rgb_img_input', 'depth_map_input', 'intensity_map_input', 'height_map_input'])\n",
    "rv_inputs  = rv_net['inputs']\n",
    "rv_outputs = rv_net['outputs']\n",
    "\n",
    "l2, l3, l4, l5 = rv_outputs"
   ]
  },
  {
   "cell_type": "code",
   "execution_count": 37,
   "metadata": {},
   "outputs": [
    {
     "data": {
      "text/plain": [
       "(<tf.Tensor 'average_13/Identity:0' shape=(None, 188, 621, 24) dtype=float32>,\n",
       " <tf.Tensor 'average_15/Identity:0' shape=(None, 94, 311, 48) dtype=float32>,\n",
       " <tf.Tensor 'average_17/Identity:0' shape=(None, 94, 311, 48) dtype=float32>,\n",
       " <tf.Tensor 'average_19/Identity:0' shape=(None, 47, 156, 92) dtype=float32>)"
      ]
     },
     "execution_count": 37,
     "metadata": {},
     "output_type": "execute_result"
    }
   ],
   "source": [
    "l2, l3, l4, l5"
   ]
  },
  {
   "cell_type": "code",
   "execution_count": 38,
   "metadata": {},
   "outputs": [
    {
     "name": "stdout",
     "output_type": "stream",
     "text": [
      "[<tf.Tensor 'add_149/Identity:0' shape=(None, 400, 400, 48) dtype=float32>,\n",
      " <tf.Tensor 'add_153/Identity:0' shape=(None, 200, 200, 96) dtype=float32>,\n",
      " <tf.Tensor 'add_157/Identity:0' shape=(None, 100, 100, 192) dtype=float32>,\n",
      " <tf.Tensor 'add_161/Identity:0' shape=(None, 50, 50, 256) dtype=float32>]\n",
      "-----------------\n",
      "[<tf.Tensor 'average_pooling2d_6/Identity:0' shape=(None, 200, 200, 96) dtype=float32>,\n",
      " <tf.Tensor 'add_153/Identity:0' shape=(None, 200, 200, 96) dtype=float32>,\n",
      " <tf.Tensor 'up_sampling2d_8/Identity:0' shape=(None, 200, 200, 96) dtype=float32>,\n",
      " <tf.Tensor 'up_sampling2d_9/Identity:0' shape=(None, 200, 200, 96) dtype=float32>]\n",
      "-----------------\n",
      "[<tf.Tensor 'add_186/Identity:0' shape=(None, 200, 200, 96) dtype=float32>]\n",
      "-----------------\n",
      "[<tf.Tensor 'obj_map_6/Identity:0' shape=(None, 200, 200, 1) dtype=float32>,\n",
      " <tf.Tensor 'geo_map_6/Identity:0' shape=(None, 200, 200, 11) dtype=float32>]\n",
      "-----------------\n"
     ]
    }
   ],
   "source": [
    "'''\n",
    "    FPN + Header\n",
    "'''\n",
    "f2_dw = conv_block(f2, 96, 1, 1)\n",
    "f2_dw = AveragePooling2D()(f2_dw)\n",
    "\n",
    "f3_zp = f3\n",
    "\n",
    "f4_up = conv_block(f4, 96, 1, 1)\n",
    "f4_up = UpSampling2D(size=(2, 2), interpolation='bilinear')(f4_up)\n",
    "\n",
    "f5_up = conv_block(f5, 96, 1, 1)\n",
    "f5_up = UpSampling2D(size=(4, 4), interpolation='bilinear')(f5_up)\n",
    "\n",
    "out = Add()([f2_dw, f3_zp, f4_up, f5_up])\n",
    "\n",
    "obj_map = Conv2D(filters=1, \n",
    "                 kernel_size=1, \n",
    "                 padding='same', \n",
    "                 activation='sigmoid', \n",
    "                 name='obj_map', \n",
    "                 kernel_initializer='glorot_normal')(out)\n",
    "geo_map = Conv2D(filters=11, \n",
    "                 kernel_size=1, \n",
    "                 padding='same', \n",
    "                 activation=None, \n",
    "                 name='geo_map',\n",
    "                 kernel_initializer='glorot_normal')(out)\n",
    "\n",
    "pprint([f2, f3, f4, f5])\n",
    "print('-----------------')\n",
    "pprint([f2_dw, f3_zp, f4_up, f5_up])\n",
    "print('-----------------')\n",
    "pprint([out])\n",
    "print('-----------------')\n",
    "pprint([obj_map, geo_map])\n",
    "print('-----------------')"
   ]
  },
  {
   "cell_type": "code",
   "execution_count": 40,
   "metadata": {},
   "outputs": [],
   "source": [
    "# model = Model([bev_in] + rv_inputs, [obj_map, geo_map]).summary()"
   ]
  }
 ],
 "metadata": {
  "kernelspec": {
   "display_name": "Python 3",
   "language": "python",
   "name": "python3"
  },
  "language_info": {
   "codemirror_mode": {
    "name": "ipython",
    "version": 3
   },
   "file_extension": ".py",
   "mimetype": "text/x-python",
   "name": "python",
   "nbconvert_exporter": "python",
   "pygments_lexer": "ipython3",
   "version": "3.6.8"
  }
 },
 "nbformat": 4,
 "nbformat_minor": 2
}
